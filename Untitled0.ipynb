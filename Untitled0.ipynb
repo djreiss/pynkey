{
 "metadata": {
  "name": "",
  "signature": "sha256:755c69e03cfa56b80b28eaba23176ef137bd7f15889e6f56d19b703d756c41d9"
 },
 "nbformat": 3,
 "nbformat_minor": 0,
 "worksheets": [
  {
   "cells": [
    {
     "cell_type": "code",
     "collapsed": false,
     "input": [
      "import numpy as np\n",
      "from params import n_iters,nthreads,organism\n",
      "import funcs\n",
      "import globals as glb\n",
      "import init\n",
      "import plot\n",
      "import floc"
     ],
     "language": "python",
     "metadata": {},
     "outputs": [
      {
       "output_type": "stream",
       "stream": "stdout",
       "text": [
        "importing params\n",
        "RANDOM SEED: 1251894\n",
        "ORGANISM: Hpy\n",
        "75\n",
        "./Hpy/ratios.tsv.gz\n",
        "[-150, 10]\n",
        "[-250, 20]\n",
        "[6, 24]\n",
        "importing scores"
       ]
      },
      {
       "output_type": "stream",
       "stream": "stdout",
       "text": [
        "\n",
        "importing weaved"
       ]
      },
      {
       "output_type": "stream",
       "stream": "stdout",
       "text": [
        "\n",
        "importing funcs\n",
        "importing globals\n",
        "2015-02-17 12:53:27.703393\n",
        "importing sequence"
       ]
      },
      {
       "output_type": "stream",
       "stream": "stdout",
       "text": [
        "\n",
        "importing meme\n",
        "importing Bicluster\n",
        "importing init\n",
        "importing plot\n",
        "importing floc\n"
       ]
      },
      {
       "output_type": "stream",
       "stream": "stderr",
       "text": [
        "Usage: -c [options]\n",
        "\n",
        "-c: error: no such option: --IPKernelApp.parent_appname\n"
       ]
      }
     ],
     "prompt_number": 1
    },
    {
     "cell_type": "code",
     "collapsed": false,
     "input": [
      "init.init()"
     ],
     "language": "python",
     "metadata": {},
     "outputs": [
      {
       "output_type": "stream",
       "stream": "stdout",
       "text": [
        "Hpy\n",
        "./Hpy/ratios.tsv.gz\n",
        "(819, 57)\n",
        "(819, 57)"
       ]
      },
      {
       "output_type": "stream",
       "stream": "stdout",
       "text": [
        "\n",
        "         TC1-6HR  TC1-12HR  TC1-18HR  TC1-24HR  TC1-30HR  TC1-36HR\n",
        "HP0002 -1.082824 -0.600139 -0.615576  0.070887 -1.082824 -0.398419\n",
        "HP0003 -0.837769 -0.339663 -0.801023 -0.451941 -0.663228  0.013502\n",
        "HP0004  2.227782  1.880308  1.536673  2.043486  0.875320  1.580827\n",
        "HP0005 -0.821816 -1.424027 -0.727871 -1.172303 -1.309607 -1.265043\n",
        "HP0006 -1.112069 -1.989754 -1.364235 -1.665365 -0.870920 -0.919884"
       ]
      },
      {
       "output_type": "stream",
       "stream": "stdout",
       "text": [
        "\n",
        "./Hpy/genome.85962.txt.gz\n",
        "{'11': SeqRecord(seq=Seq('TGATTAGTGATTAGTGATTAGTGATTAGTGATTAGTGATTAGTGATTAGTGATT...AAG', SingleLetterAlphabet()), id='11', name='11', description='11 NC_000915 Helicobacter pylori 26695 NCBI taxonomyId 85962', dbxrefs=[])}"
       ]
      },
      {
       "output_type": "stream",
       "stream": "stdout",
       "text": [
        "\n",
        "1\n",
        "./Hpy/genomeInfo.85962.tsv.gz\n",
        "./Hpy/STRING_85962.tsv.gz\n",
        "./Hpy/microbesonline_operons_gnc85962.named.gz"
       ]
      },
      {
       "output_type": "stream",
       "stream": "stdout",
       "text": [
        "\n",
        "(1257, 4)\n",
        "(819,)"
       ]
      },
      {
       "output_type": "stream",
       "stream": "stdout",
       "text": [
        "\n",
        "HP[10][1032547698][1032547698][1032547698]\n",
        "Getting upstream sequences (search)\n",
        "Filtering upstream sequences"
       ]
      },
      {
       "output_type": "stream",
       "stream": "stdout",
       "text": [
        "\n",
        "Getting upstream sequences (scan)"
       ]
      },
      {
       "output_type": "stream",
       "stream": "stdout",
       "text": [
        "\n",
        "Filtering upstream sequences"
       ]
      },
      {
       "output_type": "stream",
       "stream": "stdout",
       "text": [
        "\n",
        "Getting trinucleotide freqs from upstream sequences"
       ]
      },
      {
       "output_type": "stream",
       "stream": "stdout",
       "text": [
        "\n",
        "0\n",
        "1"
       ]
      },
      {
       "output_type": "stream",
       "stream": "stdout",
       "text": [
        "\n",
        "2"
       ]
      },
      {
       "output_type": "stream",
       "stream": "stdout",
       "text": [
        "\n",
        "3"
       ]
      },
      {
       "output_type": "stream",
       "stream": "stdout",
       "text": [
        "\n"
       ]
      },
      {
       "output_type": "stream",
       "stream": "stderr",
       "text": [
        "/home/dreiss/python/lib/python2.7/site-packages/Bio/Seq.py:342: BiopythonDeprecationWarning: This method is obsolete; please use str(my_seq) instead of my_seq.tostring().\n",
        "  BiopythonDeprecationWarning)\n",
        "/home/dreiss/python/lib/python2.7/site-packages/scipy/cluster/vq.py:600: UserWarning: One of the clusters is empty. Re-run kmean with a different initialization.\n",
        "  warnings.warn(\"One of the clusters is empty. \"\n"
       ]
      },
      {
       "output_type": "stream",
       "stream": "stdout",
       "text": [
        "\n",
        "Must have \"import\"ed this module rather than run from main.py.\n",
        "kmeans+random\n",
        "DONE WITH INITIALIZATION!"
       ]
      },
      {
       "output_type": "stream",
       "stream": "stdout",
       "text": [
        "\n",
        "2015-02-17 12:53:56.219350\n",
        "0:00:28.515957 seconds since initialization\n"
       ]
      }
     ],
     "prompt_number": 2
    },
    {
     "cell_type": "code",
     "collapsed": false,
     "input": [
      "glb.iter = 10\n",
      "weight_r, weight_n, weight_m, weight_c, weight_v, weight_g = scores.get_score_weights( glb.iter, glb.ratios )\n",
      "self = glb.clusters[1]\n",
      "self.compute_residue( glb.ratios )\n",
      "rats = glb.ratios.ix[ self.rows, self.cols ]\n",
      "glb.clusters[0].cols"
     ],
     "language": "python",
     "metadata": {},
     "outputs": [
      {
       "metadata": {},
       "output_type": "pyout",
       "prompt_number": 16,
       "text": [
        "array([-5.563721  , -5.54416037, -5.38157711, ...,  3.86347677,\n",
        "        4.65546119,  4.97662511])"
       ]
      }
     ],
     "prompt_number": 16
    },
    {
     "cell_type": "code",
     "collapsed": false,
     "input": [
      "import scores\n",
      "glb.iter = 10\n",
      "weight_r, weight_n, weight_m, weight_c, weight_v, weight_g = scores.get_score_weights( glb.iter, glb.ratios )\n",
      "weight_m\n",
      "glb.clusters[1].fill_all_scores(glb.iter, glb.all_genes, glb.ratios, glb.string_net, glb.ratios.columns.values)"
     ],
     "language": "python",
     "metadata": {},
     "outputs": [
      {
       "output_type": "stream",
       "stream": "stdout",
       "text": [
        "1 [ True  True]\n"
       ]
      },
      {
       "output_type": "stream",
       "stream": "stderr",
       "text": [
        "/home/dreiss/python/lib/python2.7/site-packages/numpy/lib/nanfunctions.py:598: RuntimeWarning: Mean of empty slice\n",
        "  warnings.warn(\"Mean of empty slice\", RuntimeWarning)\n"
       ]
      },
      {
       "metadata": {},
       "output_type": "pyout",
       "prompt_number": 9,
       "text": [
        "\u001b[32mBicluster: \u001b[39m1\n",
        "   resid: nan\n",
        "   meme-p: inf\n",
        "   string: 1.240055\n",
        "   rows: ['HP0009' 'HP0027' 'HP0028' 'HP0080' 'HP0098' 'HP0145' 'HP0146' 'HP0148'\n",
        " 'HP0221' 'HP0227' 'HP0229' 'HP0275' 'HP0278' 'HP0319' 'HP0342' 'HP0350'\n",
        " 'HP0354' 'HP0382' 'HP0389' 'HP0392' 'HP0456' 'HP0487' 'HP0492' 'HP0499'\n",
        " 'HP0509' 'HP0523' 'HP0549' 'HP0552' 'HP0565' 'HP0588' 'HP0589' 'HP0590'\n",
        " 'HP0591' 'HP0615' 'HP0654' 'HP0665' 'HP0668' 'HP0681' 'HP0695' 'HP0698'\n",
        " 'HP0706' 'HP0744' 'HP0766' 'HP0844' 'HP0881' 'HP0920' 'HP0947' 'HP1037'\n",
        " 'HP1038' 'HP1055' 'HP1056' 'HP1083' 'HP1101' 'HP1103' 'HP1108' 'HP1109'\n",
        " 'HP1111' 'HP1130' 'HP1161' 'HP1172' 'HP1173' 'HP1178' 'HP1212' 'HP1285'\n",
        " 'HP1313' 'HP1325' 'HP1342' 'HP1345' 'HP1369' 'HP1460' 'HP1483' 'HP1564']\n",
        "   cols: [-5.563721   -5.54416037 -5.38157711 ...,  3.86347677  4.65546119\n",
        "  4.97662511]\n",
        "   changed: [False False]"
       ]
      }
     ],
     "prompt_number": 9
    },
    {
     "cell_type": "code",
     "collapsed": false,
     "input": [
      "from Bicluster import fill_all_cluster_scores_par\n",
      "glb.clusters = fill_all_cluster_scores_par(glb.clusters, threads=nthreads)"
     ],
     "language": "python",
     "metadata": {},
     "outputs": []
    },
    {
     "cell_type": "code",
     "collapsed": false,
     "input": [
      "glb.clusters[0]"
     ],
     "language": "python",
     "metadata": {},
     "outputs": []
    },
    {
     "cell_type": "code",
     "collapsed": false,
     "input": [],
     "language": "python",
     "metadata": {},
     "outputs": []
    }
   ],
   "metadata": {}
  }
 ]
}