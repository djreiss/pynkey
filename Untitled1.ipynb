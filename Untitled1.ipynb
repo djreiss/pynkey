{
 "metadata": {
  "name": "",
  "signature": "sha256:3581879c7d2367b490a0a0f060dd2e3eed8c7941f9c62de7d07a2a677aaee3e8"
 },
 "nbformat": 3,
 "nbformat_minor": 0,
 "worksheets": [
  {
   "cells": [
    {
     "cell_type": "code",
     "collapsed": false,
     "input": [
      "import params\n",
      "params.init_args()\n",
      "params.output_dir = 'outzzztest'"
     ],
     "language": "python",
     "metadata": {},
     "outputs": [
      {
       "output_type": "stream",
       "stream": "stdout",
       "text": [
        "importing params\n",
        "RANDOM SEED: 1379413\n",
        "ORGANISM: Hpy\n",
        "75\n",
        "OUTPUT: ./output/\n",
        "./Hpy/ratios.tsv.gz\n",
        "[-150, 10]\n",
        "[-250, 20]\n",
        "[6, 24]\n"
       ]
      }
     ],
     "prompt_number": 1
    },
    {
     "cell_type": "code",
     "collapsed": false,
     "input": [
      "import init\n",
      "init.init()"
     ],
     "language": "python",
     "metadata": {},
     "outputs": [
      {
       "output_type": "stream",
       "stream": "stdout",
       "text": [
        "importing sequence\n",
        "importing scores\n",
        "importing weaved"
       ]
      },
      {
       "output_type": "stream",
       "stream": "stdout",
       "text": [
        "\n",
        "importing funcs\n",
        "importing meme\n",
        "importing Bicluster\n",
        "importing globals\n",
        "2015-03-03 11:40:02.951954\n",
        "importing init\n",
        "Hpy\n",
        "./Hpy/ratios.tsv.gz\n",
        "(819, 57)\n",
        "(819, 57)"
       ]
      },
      {
       "output_type": "stream",
       "stream": "stdout",
       "text": [
        "\n",
        "         TC1-6HR  TC1-12HR  TC1-18HR  TC1-24HR  TC1-30HR  TC1-36HR\n",
        "HP0002 -1.082824 -0.600139 -0.615576  0.070887 -1.082824 -0.398419\n",
        "HP0003 -0.837769 -0.339663 -0.801023 -0.451941 -0.663228  0.013502\n",
        "HP0004  2.227782  1.880308  1.536673  2.043486  0.875320  1.580827\n",
        "HP0005 -0.821816 -1.424027 -0.727871 -1.172303 -1.309607 -1.265043\n",
        "HP0006 -1.112069 -1.989754 -1.364235 -1.665365 -0.870920 -0.919884"
       ]
      },
      {
       "output_type": "stream",
       "stream": "stdout",
       "text": [
        "\n",
        "./Hpy/genome.85962.txt.gz\n",
        "{'11': SeqRecord(seq=Seq('TGATTAGTGATTAGTGATTAGTGATTAGTGATTAGTGATTAGTGATTAGTGATT...AAG', SingleLetterAlphabet()), id='11', name='11', description='11 NC_000915 Helicobacter pylori 26695 NCBI taxonomyId 85962', dbxrefs=[])}"
       ]
      },
      {
       "output_type": "stream",
       "stream": "stdout",
       "text": [
        "\n",
        "1\n",
        "./Hpy/genomeInfo.85962.tsv.gz\n",
        "./Hpy/STRING_85962.tsv.gz\n",
        "./Hpy/microbesonline_operons_gnc85962.named.gz"
       ]
      },
      {
       "output_type": "stream",
       "stream": "stdout",
       "text": [
        "\n",
        "(1257, 4)\n",
        "(819,)"
       ]
      },
      {
       "output_type": "stream",
       "stream": "stdout",
       "text": [
        "\n",
        "HP[10][1032547698][1032547698][1032547698]\n",
        "Getting upstream sequences (search)\n",
        "Filtering upstream sequences"
       ]
      },
      {
       "output_type": "stream",
       "stream": "stdout",
       "text": [
        "\n",
        "Getting upstream sequences (scan)"
       ]
      },
      {
       "output_type": "stream",
       "stream": "stdout",
       "text": [
        "\n",
        "Filtering upstream sequences"
       ]
      },
      {
       "output_type": "stream",
       "stream": "stdout",
       "text": [
        "\n",
        "Getting trinucleotide freqs from upstream sequences"
       ]
      },
      {
       "output_type": "stream",
       "stream": "stdout",
       "text": [
        "\n",
        "0\n",
        "1"
       ]
      },
      {
       "output_type": "stream",
       "stream": "stdout",
       "text": [
        "\n",
        "2"
       ]
      },
      {
       "output_type": "stream",
       "stream": "stdout",
       "text": [
        "\n",
        "3"
       ]
      },
      {
       "output_type": "stream",
       "stream": "stdout",
       "text": [
        "\n"
       ]
      },
      {
       "output_type": "stream",
       "stream": "stdout",
       "text": [
        "\n",
        "Must have \"import\"ed this module rather than run from main.py.\n",
        "kmeans+random\n",
        "DONE WITH INITIALIZATION!"
       ]
      },
      {
       "output_type": "stream",
       "stream": "stdout",
       "text": [
        "\n",
        "2015-03-03 11:40:14.674207\n",
        "0:00:11.722253 seconds since initialization\n"
       ]
      },
      {
       "output_type": "stream",
       "stream": "stderr",
       "text": [
        "/home/dreiss/python/lib/python2.7/site-packages/scipy/cluster/vq.py:600: UserWarning: One of the clusters is empty. Re-run kmean with a different initialization.\n",
        "  warnings.warn(\"One of the clusters is empty. \"\n"
       ]
      }
     ],
     "prompt_number": 2
    },
    {
     "cell_type": "code",
     "collapsed": false,
     "input": [
      "from Bicluster import fill_all_cluster_scores_par\n",
      "import globals as glb\n",
      "glb.clusters = fill_all_cluster_scores_par(glb.clusters, threads=params.nthreads)"
     ],
     "language": "python",
     "metadata": {},
     "outputs": [
      {
       "output_type": "stream",
       "stream": "stdout",
       "text": [
        "0 [ True  True]\n",
        "2 [ True  True]\n",
        "4 [ True  True]\n",
        "6 [ True  True]\n",
        "8 [ True  True]\n",
        "10 [ True  True]\n",
        "12 [ True  True]\n",
        "14 [ True  True]\n",
        "18 [ True  True]\n",
        "20 [ True  True]\n",
        "22 [ True  True]\n",
        "24 [ True  True]\n",
        "26 [ True  True]\n",
        "16 [ True  True]\n",
        "28 [ True  True]\n",
        "30 [ True  True]\n",
        "135791113151921232527172931 [ True  True]\n",
        " [ True  True]\n",
        " [ True  True]\n",
        " [ True  True]\n",
        " [ True  True]\n",
        " [ True  True]\n",
        " [ True  True]\n",
        " [ True  True]\n",
        " [ True  True]\n",
        " [ True  True]\n",
        " [ True  True]\n",
        " [ True  True]\n",
        " [ True  True]\n",
        " [ True  True]\n",
        " [ True  True]\n",
        " [ True  True]\n",
        "60383236345262444642405850545648 [ True  True]\n",
        " [ True  True]\n",
        " [ True  True]\n",
        " [ True  True]\n",
        " [ True  True]\n",
        " [ True  True]\n",
        " [ True  True]\n",
        " [ True  True]\n",
        " [ True  True]\n",
        " [ True  True]\n",
        " [ True  True]\n",
        " [ True  True]\n",
        " [ True  True]\n",
        " [ True  True]\n",
        " [ True  True]\n",
        " [ True  True]\n",
        "61393337355363454743415951555749 [ True  True]\n",
        " [ True  True]\n",
        " [ True  True]\n",
        " [ True  True]\n",
        " [ True  True]\n",
        " [ True  True]\n",
        " [ True  True]\n",
        " [ True  True]\n",
        " [ True  True]\n",
        " [ True  True]\n",
        " [ True  True]\n",
        " [ True  True]\n",
        " [ True  True]\n",
        " [ True  True]\n",
        " [ True  True]\n",
        " [ True  True]\n",
        "646674707268 [ True  True]\n",
        " [ True  True]\n",
        " [ True  True]\n",
        " [ True  True]\n",
        " [ True  True]\n",
        " [ True  True]\n",
        "6965736771 [ True  True]\n",
        " [ True  True]\n",
        " [ True  True]\n",
        " [ True  True]\n",
        " [ True  True]\n"
       ]
      }
     ],
     "prompt_number": 3
    },
    {
     "cell_type": "code",
     "collapsed": false,
     "input": [
      "import funcs\n",
      "stats_tmp = funcs.print_cluster_stats(glb.clusters, glb.ratios, 1, glb.startTime)\n",
      "glb.stats_df = glb.stats_df.append( stats_tmp )"
     ],
     "language": "python",
     "metadata": {},
     "outputs": [
      {
       "output_type": "stream",
       "stream": "stdout",
       "text": [
        "ITER: 1\n",
        "r0: 1.000; n0: 0.000; m0: 0.000; c0: 0.239; v0: 0.100, g0: 0.000\n",
        "N_MOVES: 0\n",
        "N_IMPROVEMENTS: 0\n",
        "ROWS: 24.2  +/-  11.9944431578\n",
        "COLS: 28.0  +/-  0.0\n",
        "MEAN RESID: 0.873186047024  +/-  0.0614288085532\n",
        "MEAN STRING DENS: inf  +/-  nan\n",
        "MEAN MEME LOG10(P-VAL): nan  +/-  nan\n",
        "CLUSTS PER ROW: 2.21611721612  +/-  1.10650604154\n",
        "CLUSTS PER COL: 36.8421052632  +/-  4.14131716348\n",
        "N_CLUSTS_CHANGED (ROWS):  0\n",
        "N_CLUSTS_CHANGED (COLS):  0\n"
       ]
      },
      {
       "output_type": "stream",
       "stream": "stderr",
       "text": [
        "/home/dreiss/python/lib/python2.7/site-packages/numpy/lib/nanfunctions.py:598: RuntimeWarning: Mean of empty slice\n",
        "  warnings.warn(\"Mean of empty slice\", RuntimeWarning)\n",
        "/home/dreiss/python/lib/python2.7/site-packages/numpy/lib/nanfunctions.py:1057: RuntimeWarning: Degrees of freedom <= 0 for slice.\n",
        "  warnings.warn(\"Degrees of freedom <= 0 for slice.\", RuntimeWarning)\n"
       ]
      }
     ],
     "prompt_number": 4
    },
    {
     "cell_type": "code",
     "collapsed": false,
     "input": [
      "from main import run_pynkey\n",
      "glb.iter = run_pynkey(glb.iter) ## Note this function can be run like this to restart from current iter"
     ],
     "language": "python",
     "metadata": {},
     "outputs": [
      {
       "output_type": "stream",
       "stream": "stdout",
       "text": [
        "importing plot\n",
        "importing floc\n"
       ]
      },
      {
       "output_type": "stream",
       "stream": "stdout",
       "text": [
        "1 2626 4864\n",
        "1001"
       ]
      },
      {
       "output_type": "stream",
       "stream": "stdout",
       "text": [
        " 1295376 4864\n",
        "2001"
       ]
      },
      {
       "output_type": "stream",
       "stream": "stdout",
       "text": [
        " 2557269 4864\n",
        "3001"
       ]
      },
      {
       "output_type": "stream",
       "stream": "stdout",
       "text": [
        " 3792688 4864\n",
        "4001"
       ]
      },
      {
       "output_type": "stream",
       "stream": "stdout",
       "text": [
        " 5015873 4864\n",
        "395 0.8730 inf nan -0.0025 2 r remove HP0294 0.7905 0.8022 -0.0117 1 1 0"
       ]
      },
      {
       "output_type": "stream",
       "stream": "stdout",
       "text": [
        "\n",
        "1183 0.8728 inf nan -0.0041 2 r remove HP0938 0.7715 0.8022 -0.0307 2 2 0\n",
        "1404 0.8725 inf nan -0.0048 67 r remove HP1097 0.7464 0.7691 -0.0227 3 3 0\n",
        "759 0.8722 inf nan -0.0046 67 r remove HP0592 0.7245 0.7691 -0.0446 4 4 0\n",
        "2049 0.8719 inf nan -0.0044 67 r remove HP1562 0.7034 0.7691 -0.0657 5 5 0\n",
        "832 0.8716 inf nan -0.0044 67 r remove HP0653 0.6821 0.7691 -0.0870 6 6 0\n",
        "1288 0.8714 inf nan -0.0031 2 r remove HP1018 0.7562 0.8022 -0.0460 7 7 0\n",
        "770 0.8714 inf nan -0.0002 67 r remove HP0603 0.6811 0.7691 -0.0880 8 8 0\n",
        "1741 0.8713 inf nan -0.0019 2 r remove HP1308 0.7470 0.8022 -0.0552 10 9 1\n",
        "1136 0.8710 inf nan -0.0037 2 r remove HP0884 0.7288 0.8022 -0.0734 11 10 0\n",
        "1862 0.8709 inf nan -0.0023 67 r remove HP1406 0.6698 0.7691 -0.0993 14 11 2\n",
        "1784 0.8707 inf nan -0.0034 2 r remove HP1326 0.7116 0.8022 -0.0906 15 12 0\n",
        "814 0.8703 inf nan -0.0052 67 r remove HP0630 0.6433 0.7691 -0.1258 16 13 0\n",
        "1990 0.8700 inf nan -0.0049 67 r remove HP1512 0.6178 0.7691 -0.1513 17 14 0\n",
        "512 0.8696 inf nan -0.0048 2 r remove HP0390 0.6846 0.8022 -0.1176 19 15 1"
       ]
      },
      {
       "output_type": "stream",
       "stream": "stdout",
       "text": [
        "\n",
        "413 0.8695 inf nan -0.0021 67 r remove HP0301 0.6037 0.7691 -0.1654 21 16 1\n",
        "337 0.8692 inf nan -0.0040 2 r remove HP0243 0.6687 0.8022 -0.1335 23 17 1\n",
        "1119 0.8692 inf nan -0.0003 2 r remove HP0870 0.6673 0.8022 -0.1349 24 18 0\n",
        "1832 0.8691 inf nan -0.0009 2 r remove HP1379 0.6625 0.8022 -0.1397 25 19 0\n",
        "283 0.8687 inf nan -0.0059 67 r remove HP0195 0.5715 0.7691 -0.1976 26 20 0\n",
        "1942 0.8686 inf nan -0.0016 29 r remove HP1469 0.7560 0.7717 -0.0158 28 21 1\n",
        "1301 0.8683 inf nan -0.0036 2 r remove HP1024 0.6490 0.8022 -0.1532 29 22 0\n",
        "1868 0.8683 inf nan -0.0002 67 r remove HP1418 0.5703 0.7691 -0.1988 30 23 0\n",
        "464 0.8680 inf nan -0.0031 67 r remove HP0350 0.5528 0.7691 -0.2163 32 24 1\n",
        "1015 0.8679 inf nan -0.0015 46 r remove HP0773 0.8890 0.8972 -0.0082 33 25 0\n",
        "744 0.8676 inf nan -0.0050 2 r remove HP0571 0.6204 0.8022 -0.1818 34 26 0\n",
        "1266 0.8672 inf nan -0.0043 2 r remove HP1006 0.5954 0.8022 -0.2068 35 27 0\n",
        "936 0.8671 inf nan -0.0019 2 r remove HP0711 0.5845 0.8022 -0.2177 36 28 0\n",
        "1400 0.8668 inf nan -0.0041 29 r remove HP1091 0.7320 0.7717 -0.0397 37 29 0"
       ]
      },
      {
       "output_type": "stream",
       "stream": "stdout",
       "text": [
        "\n",
        "187 0.8664 inf nan -0.0041 2 r remove HP0133 0.5598 0.8022 -0.2424 38 30 0\n",
        "1581 0.8664 inf nan -0.0009 2 r remove HP1188 0.5513 0.8022 -0.2509 40 31 1\n",
        "1838 0.8659 inf nan -0.0055 67 r remove HP1381 0.4996 0.7691 -0.2695 49 32 8\n",
        "561 0.8654 inf nan -0.0057 67 r remove HP0438 0.4636 0.7691 -0.3055 51 33 1\n",
        "1126 0.8650 inf nan -0.0049 67 r remove HP0874 0.4321 0.7691 -0.3370 52 34 0\n",
        "300 0.8647 inf nan -0.0030 67 r remove HP0211 0.4126 0.7691 -0.3565 53 35 0\n",
        "1900 0.8647 inf nan -0.0004 46 r remove HP1445 0.8630 0.8972 -0.0342 65 36 11"
       ]
      },
      {
       "output_type": "stream",
       "stream": "stdout",
       "text": [
        "\n",
        "1994 0.8646 inf nan -0.0008 29 r remove HP1518 0.7084 0.7717 -0.0633 72 37 6\n",
        "1070 0.8646 inf nan -0.0006 29 r remove HP0830 0.6911 0.7717 -0.0807 78 38 5\n",
        "2064 0.8644 inf nan -0.0019 46 r remove HP1571 0.8550 0.8972 -0.0422 79 39 0\n",
        "486 0.8643 inf nan -0.0016 67 r remove HP0370 0.4252 0.7691 -0.3439 80 40 0\n",
        "1116 0.8641 inf nan -0.0025 46 r remove HP0869 0.8391 0.8972 -0.0582 81 41 0\n",
        "1735 0.8640 inf nan -0.0015 29 r remove HP1304 0.6813 0.7717 -0.0905 82 42 0\n",
        "1896 0.8639 inf nan -0.0008 67 r remove HP1443 0.4201 0.7691 -0.3491 83 43 0\n",
        "364 0.8636 inf nan -0.0032 29 r remove HP0267 0.6601 0.7717 -0.1117 84 44 0\n",
        "1096 0.8635 inf nan -0.0006 29 r remove HP0855 0.6287 0.7717 -0.1431 90 45 5"
       ]
      },
      {
       "output_type": "stream",
       "stream": "stdout",
       "text": [
        "\n",
        "1823 0.8634 inf nan -0.0022 46 r remove HP1372 0.8244 0.8972 -0.0729 91 46 0\n",
        "1711 0.8632 inf nan -0.0022 2 r remove HP1292 0.6056 0.8022 -0.1966 92 47 0\n",
        "1939 0.8628 inf nan -0.0041 2 r remove HP1466 0.5785 0.8022 -0.2237 93 48 0\n",
        "649 0.8627 inf nan -0.0009 2 r remove HP0509 0.5723 0.8022 -0.2299 94 49 0\n",
        "858 0.8625 inf nan -0.0020 67 r remove HP0665 0.4157 0.7691 -0.3534 95 50 0\n",
        "417 0.8621 inf nan -0.0052 2 r remove HP0303 0.5367 0.8022 -0.2655 96 51 0\n",
        "433 0.8615 inf nan -0.0057 67 r remove HP0312 0.3751 0.7691 -0.3940 97 52 0\n",
        "121 0.8612 inf nan -0.0031 29 r remove HP0084 0.6069 0.7717 -0.1649 98 53 0\n",
        "1904 0.8610 inf nan -0.0027 46 r remove HP1450 0.8047 0.8972 -0.0925 99 54 0\n",
        "679 0.8609 inf nan -0.0010 46 r remove HP0528 0.7900 0.8972 -0.1072 102 55 2\n",
        "518 0.8606 inf nan -0.0026 2 r remove HP0395 0.5181 0.8022 -0.2841 103 56 0\n",
        "1903 0.8605 inf nan -0.0016 67 r remove HP1450 0.3705 0.7691 -0.3986 105 57 1\n",
        "787 0.8600 inf nan -0.0046 67 r remove HP0616 0.3363 0.7691 -0.4328 106 58 0\n",
        "1161 0.8599 inf nan -0.0015 46 r remove HP0912 0.7792 0.8972 -0.1180 107 59 0\n",
        "1617 0.8593 inf nan -0.0059 2 r remove HP1213 0.4742 0.8022 -0.3280 108 60 0"
       ]
      },
      {
       "output_type": "stream",
       "stream": "stdout",
       "text": [
        "\n",
        "1376 0.8592 inf nan -0.0005 2 r remove HP1057 0.4704 0.8022 -0.3318 109 61 0\n",
        "1525 0.8587 inf nan -0.0051 2 r remove HP1164 0.4103 0.8022 -0.3919 114 62 4\n",
        "1485 0.8586 inf nan -0.0012 46 r remove HP1134 0.7742 0.8972 -0.1230 116 63 1\n",
        "1053 0.8577 inf nan -0.0082 67 r remove HP0814 0.2749 0.7691 -0.4942 117 64 0\n",
        "1342 0.8571 inf nan -0.0050 67 r remove HP1041 0.2330 0.7691 -0.5361 118 65 0\n",
        "389 0.8565 inf nan -0.0052 2 r remove HP0286 0.3772 0.8022 -0.4250 119 66 0\n",
        "55 0.8554 inf nan -0.0092 2 r remove HP0037 0.2950 0.8022 -0.5072 120 67 0\n",
        "539 0.8551 inf nan -0.0030 29 r remove HP0407 0.5757 0.7717 -0.1960 122 68 1\n",
        "554 0.8549 inf nan -0.0012 46 r remove HP0419 0.7615 0.8972 -0.1358 125 69 2\n",
        "1024 0.8547 inf nan -0.0018 29 r remove HP0780 0.5610 0.7717 -0.2108 129 70 3"
       ]
      },
      {
       "output_type": "stream",
       "stream": "stderr",
       "text": [
        "WARNING:root:COULD NOT COMPUTE RESIDUE\n"
       ]
      },
      {
       "output_type": "stream",
       "stream": "stderr",
       "text": [
        "WARNING:root:COULD NOT COMPUTE RESIDUE\n"
       ]
      },
      {
       "output_type": "stream",
       "stream": "stdout",
       "text": [
        "\n",
        "1012 0.8544 inf nan -0.0023 46 r remove HP0771 0.7348 0.8972 -0.1624 131 71 1\n",
        "407 0.8542 inf nan -0.0023 29 r remove HP0298 0.5398 0.7717 -0.2319 132 72 0\n",
        "1954 0.8540 inf nan -0.0013 67 r remove HP1483 0.2152 0.7691 -0.5539 134 73 1\n",
        "817 0.8537 inf nan -0.0025 29 r remove HP0633 0.5095 0.7717 -0.2623 136 74 1\n",
        "937 0.8518 inf nan -0.0142 64 r remove HP0711 0.3260 0.8526 -0.5266 294 75 157"
       ]
      },
      {
       "output_type": "stream",
       "stream": "stderr",
       "text": [
        "WARNING:root:COULD NOT COMPUTE RESIDUE\n"
       ]
      },
      {
       "output_type": "stream",
       "stream": "stdout",
       "text": [
        "\n",
        "31 0.8518 inf nan -0.0006 24 r remove HP0017 0.7345 0.7399 -0.0055 295 76 0\n",
        "360 0.8515 inf nan -0.0021 1 r remove HP0264 0.6458 0.8793 -0.2336 406 77 110"
       ]
      },
      {
       "output_type": "stream",
       "stream": "stdout",
       "text": [
        "\n",
        "1661 0.8513 inf nan -0.0013 35 r add HP1242 0.8268 0.9257 -0.0988 409 78 2\n",
        "1541 0.8513 inf nan -0.0006 43 r remove HP1171 0.8861 0.9289 -0.0428 410 79 0\n",
        "1553 0.8512 inf nan -0.0008 35 r add HP1177 0.8088 0.9257 -0.1169 413 80 2\n",
        "262 0.8511 inf nan -0.0009 43 r remove HP0178 0.8720 0.9289 -0.0569 415 81 1\n",
        "2270 0.8510 inf nan -0.0002 0 c add Stat-iron-survival-0 0.8369 0.8258 0.0111 417 82 1\n",
        "1998 0.8509 inf nan -0.0015 43 r remove HP1524 0.8287 0.9289 -0.1002 422 83 4\n",
        "1540 0.8505 inf nan -0.0029 1 r remove HP1171 0.6429 0.8793 -0.2365 423 84 0\n",
        "1816 0.8504 inf nan -0.0012 45 r add HP1350 0.8230 0.9191 -0.0961 424 85 0\n",
        "703 0.8503 inf nan -0.0002 45 r add HP0546 0.8057 0.9191 -0.1134 446 86 21"
       ]
      },
      {
       "output_type": "stream",
       "stream": "stdout",
       "text": [
        "\n",
        "2046 0.8503 inf nan -0.0006 35 r add HP1561 0.8420 0.9257 -0.0837 447 87 0\n",
        "38 0.8502 inf nan -0.0004 0 r remove HP0019 0.8245 0.8258 -0.0013 450 88 2\n",
        "1693 0.8501 inf nan -0.0010 43 r remove HP1279 0.8321 0.9289 -0.0968 452 89 1\n",
        "741 0.8500 inf nan -0.0005 35 r add HP0570 0.8294 0.9257 -0.0963 456 90 3\n",
        "197 0.8500 inf nan -0.0000 45 r add HP0139 0.8252 0.9191 -0.0939 458 91 1\n",
        "778 0.8495 inf nan -0.0046 24 r remove HP0613 0.4916 0.7399 -0.2484 460 92 1\n",
        "1516 0.8494 inf nan -0.0003 0 r remove HP1155 0.7771 0.8258 -0.0488 464 93 3\n",
        "1363 0.8493 inf nan -0.0008 35 r add HP1052 0.8153 0.9257 -0.1104 465 94 0\n",
        "1559 0.8493 inf nan -0.0005 35 r add HP1179 0.8103 0.9257 -0.1153 466 95 0"
       ]
      },
      {
       "output_type": "stream",
       "stream": "stdout",
       "text": [
        "\n",
        "1808 0.8491 inf nan -0.0009 35 r add HP1345 0.8022 0.9257 -0.1235 467 96 0\n",
        "1138 0.8488 inf nan -0.0028 43 r remove HP0886 0.8361 0.9289 -0.0929 502 97 34"
       ]
      },
      {
       "output_type": "stream",
       "stream": "stdout",
       "text": [
        "\n",
        "1446 0.8480 inf nan -0.0066 43 r remove HP1117 0.7499 0.9289 -0.1791 516 98 13\n",
        "2138 0.8480 inf nan -0.0002 37 c add G27pH-5-T2 0.8902 0.8857 0.0045 517 99 0\n",
        "1001 0.8476 inf nan -0.0028 0 r remove HP0760 0.7275 0.8258 -0.0984 518 100 0\n",
        "754 0.8454 inf nan -0.0173 1 r remove HP0590 0.6890 0.8793 -0.1904 519 101 0\n",
        "697 0.8454 inf nan -0.0003 35 r add HP0542 0.7341 0.9257 -0.1915 520 102 0\n",
        "915 0.8451 inf nan -0.0018 43 r remove HP0697 0.6704 0.9289 -0.2586 552 103 31"
       ]
      },
      {
       "output_type": "stream",
       "stream": "stderr",
       "text": [
        "WARNING:root:COULD NOT COMPUTE RESIDUE\n"
       ]
      },
      {
       "output_type": "stream",
       "stream": "stderr",
       "text": [
        "WARNING:root:COULD NOT COMPUTE RESIDUE\n"
       ]
      },
      {
       "output_type": "stream",
       "stream": "stdout",
       "text": [
        "\n",
        "1797 0.8450 inf nan -0.0010 0 r remove HP1339 0.6569 0.8258 -0.1689 559 104 6\n",
        "2402 0.8449 inf nan -0.0007 67 c add TC2-28HR 1.0422 0.7691 0.2731 560 105 0\n",
        "5 0.8433 inf nan -0.0127 43 r remove HP0004 0.5001 0.9289 -0.4288 576 106 15"
       ]
      },
      {
       "output_type": "stream",
       "stream": "stderr",
       "text": [
        "WARNING:root:COULD NOT COMPUTE RESIDUE\n"
       ]
      },
      {
       "output_type": "stream",
       "stream": "stderr",
       "text": [
        "WARNING:root:COULD NOT COMPUTE RESIDUE\n"
       ]
      },
      {
       "output_type": "stream",
       "stream": "stderr",
       "text": [
        "WARNING:root:COULD NOT COMPUTE RESIDUE\n"
       ]
      },
      {
       "output_type": "stream",
       "stream": "stderr",
       "text": [
        "WARNING:root:COULD NOT COMPUTE RESIDUE\n"
       ]
      },
      {
       "output_type": "stream",
       "stream": "stderr",
       "text": [
        "WARNING:root:COULD NOT COMPUTE RESIDUE\n"
       ]
      },
      {
       "output_type": "stream",
       "stream": "stderr",
       "text": [
        "WARNING:root:COULD NOT COMPUTE RESIDUE\n"
       ]
      },
      {
       "output_type": "stream",
       "stream": "stderr",
       "text": [
        "WARNING:root:COULD NOT COMPUTE RESIDUE\n"
       ]
      },
      {
       "output_type": "stream",
       "stream": "stderr",
       "text": [
        "WARNING:root:COULD NOT COMPUTE RESIDUE\n"
       ]
      },
      {
       "output_type": "stream",
       "stream": "stderr",
       "text": [
        "WARNING:root:COULD NOT COMPUTE RESIDUE\n"
       ]
      },
      {
       "output_type": "stream",
       "stream": "stdout",
       "text": [
        "\n",
        "2379 0.8431 inf nan -0.0013 67 c add TC1-6HR 1.0456 0.7691 0.2765 577 107 0\n",
        "1527 0.8426 inf nan -0.0038 37 r remove HP1165 0.7624 0.8857 -0.1233 629 108 51"
       ]
      },
      {
       "output_type": "stream",
       "stream": "stderr",
       "text": [
        "WARNING:root:COULD NOT COMPUTE RESIDUE\n"
       ]
      },
      {
       "output_type": "stream",
       "stream": "stderr",
       "text": [
        "WARNING:root:COULD NOT COMPUTE RESIDUE\n"
       ]
      },
      {
       "output_type": "stream",
       "stream": "stderr",
       "text": [
        "WARNING:root:COULD NOT COMPUTE RESIDUE\n"
       ]
      },
      {
       "output_type": "stream",
       "stream": "stderr",
       "text": [
        "WARNING:root:COULD NOT COMPUTE RESIDUE\n"
       ]
      },
      {
       "output_type": "stream",
       "stream": "stderr",
       "text": [
        "WARNING:root:COULD NOT COMPUTE RESIDUE\n"
       ]
      },
      {
       "output_type": "stream",
       "stream": "stderr",
       "text": [
        "WARNING:root:COULD NOT COMPUTE RESIDUE\n"
       ]
      },
      {
       "output_type": "stream",
       "stream": "stdout",
       "text": [
        "\n",
        "2223 0.8425 inf nan -0.0009 28 c add Log-iron-survival-2hrs 0.8763 0.8846 -0.0083 630 109 0\n",
        "281 0.8422 inf nan -0.0015 57 r remove HP0192 0.5793 0.7311 -0.1519 818 110 187"
       ]
      },
      {
       "output_type": "stream",
       "stream": "stdout",
       "text": [
        "\n",
        "1437 0.8421 inf nan -0.0007 55 r add HP1110 0.6851 0.9030 -0.2180 819 111 0\n",
        "1140 0.8418 inf nan -0.0019 17 r add HP0886 0.8768 0.8989 -0.0222 821 112 1\n",
        "1669 0.8418 inf nan -0.0005 28 r add HP1251 0.7247 0.8846 -0.1599 822 113 0\n",
        "1882 0.8415 inf nan -0.0018 53 r add HP1430 0.8358 0.9079 -0.0721 823 114 0\n",
        "46 0.8414 inf nan -0.0007 22 r add HP0026 0.8184 0.9146 -0.0962 824 115 0\n",
        "1423 0.8413 inf nan -0.0003 37 r add HP1103 0.6289 0.8857 -0.2567 825 116 0\n",
        "1611 0.8410 inf nan -0.0022 19 r add HP1210 0.8508 0.9087 -0.0579 826 117 0\n",
        "2135 0.8410 inf nan 0.0000 64 c add FeAddBack-2-60-repeat nan 0.8526 nan 827 118 0\n",
        "452 0.8407 inf nan -0.0017 19 r add HP0331 0.8320 0.9087 -0.0767 828 119 0\n",
        "942 0.8406 inf nan -0.0003 0 r add HP0718 0.6737 0.8258 -0.1522 829 120 0\n",
        "1313 0.8403 inf nan -0.0022 38 r remove HP1029 0.7877 0.8818 -0.0941 830 121 0\n",
        "1554 0.8402 inf nan -0.0009 22 r add HP1177 0.8085 0.9146 -0.1061 831 122 0\n",
        "2031 0.8397 inf nan -0.0032 37 r remove HP1554 0.5932 0.8857 -0.2925 832 123 0\n",
        "39 0.8396 inf nan -0.0001 38 r add HP0019 0.7818 0.8818 -0.1000 834 124 1\n",
        "492 0.8395 inf nan -0.0009 27 r remove HP0374 0.8235 0.8520 -0.0285 835 125 0\n",
        "238 0.8393 inf nan -0.0015 19 r add HP0159 0.8197 0.9087 -0.0890 836 126 0"
       ]
      },
      {
       "output_type": "stream",
       "stream": "stdout",
       "text": [
        "\n",
        "198 0.8390 inf nan -0.0014 21 r add HP0139 0.9482 0.9645 -0.0163 837 127 0\n",
        "345 0.8390 inf nan -0.0003 53 r add HP0246 0.8263 0.9079 -0.0816 842 128 4\n",
        "11 0.8389 inf nan -0.0005 0 r remove HP0006 0.6739 0.8258 -0.1519 845 129 2\n",
        "1168 0.8387 inf nan -0.0012 53 r add HP0914 0.8130 0.9079 -0.0950 846 130 0\n",
        "1543 0.8387 inf nan -0.0001 0 r add HP1172 0.6725 0.8258 -0.1533 847 131 0\n",
        "1545 0.8385 inf nan -0.0012 59 r add HP1172 0.8166 0.8301 -0.0134 848 132 0\n",
        "1414 0.8384 inf nan -0.0006 38 r add HP1100 0.7748 0.8818 -0.1070 849 133 0\n",
        "318 0.8381 inf nan -0.0022 17 r remove HP0224 0.8464 0.8989 -0.0526 856 134 6"
       ]
      },
      {
       "output_type": "stream",
       "stream": "stderr",
       "text": [
        "WARNING:root:COULD NOT COMPUTE RESIDUE\n"
       ]
      },
      {
       "output_type": "stream",
       "stream": "stdout",
       "text": [
        "\n",
        "651 0.8379 inf nan -0.0013 12 r add HP0509 0.7906 0.8369 -0.0463 858 135 1\n",
        "54 0.8377 inf nan -0.0007 53 r add HP0036 0.8034 0.9079 -0.1046 860 136 1\n",
        "2229 0.8377 inf nan -0.0001 67 c add Log-iron-survival-30 1.1618 0.7691 0.3927 861 137 0\n",
        "1473 0.8375 inf nan -0.0012 12 r add HP1127 0.7768 0.8369 -0.0602 862 138 0\n",
        "2177 0.8375 inf nan 0.0000 29 c add G27pH5-T1-3 nan 0.7717 nan 863 139 0\n",
        "195 0.8375 inf nan -0.0003 55 r add HP0138 0.6820 0.9030 -0.2210 864 140 0\n",
        "788 0.8374 inf nan -0.0004 4 r add HP0616 0.9118 0.9826 -0.0708 865 141 0\n",
        "2068 0.8373 inf nan -0.0007 28 r add HP1576 0.7189 0.8846 -0.1657 866 142 0\n",
        "1139 0.8371 inf nan -0.0011 12 r add HP0886 0.7639 0.8369 -0.0730 867 143 0\n",
        "1720 0.8370 inf nan -0.0007 12 r add HP1295 0.7562 0.8369 -0.0808 868 144 0\n",
        "1067 0.8370 inf nan -0.0004 27 r add HP0824 0.8189 0.8520 -0.0331 869 145 0\n",
        "1382 0.8369 inf nan -0.0004 4 r add HP1062 0.9070 0.9826 -0.0756 870 146 0\n",
        "1401 0.8369 inf nan -0.0002 59 r add HP1091 0.8123 0.8301 -0.0178 872 147 1\n",
        "2352 0.8368 inf nan -0.0003 72 c add TC1-30HR 0.6602 0.8588 -0.1986 873 148 0\n",
        "2125 0.8368 inf nan 0.0000 29 c add FeAddBack-2-120-repeat nan 0.7717 nan 874 149 0"
       ]
      },
      {
       "output_type": "stream",
       "stream": "stderr",
       "text": [
        "WARNING:root:COULD NOT COMPUTE RESIDUE\n"
       ]
      },
      {
       "output_type": "stream",
       "stream": "stdout",
       "text": [
        "\n",
        "856 0.8366 inf nan -0.0011 53 r add HP0663 0.7911 0.9079 -0.1168 875 150 0\n",
        "1457 0.8364 inf nan -0.0012 19 r add HP1121 0.7986 0.9087 -0.1101 877 151 1\n",
        "844 0.8363 inf nan -0.0011 12 r add HP0657 0.7431 0.8369 -0.0938 878 152 0\n",
        "170 0.8362 inf nan -0.0007 12 r add HP0123 0.7355 0.8369 -0.1014 879 153 0\n",
        "1916 0.8361 inf nan -0.0005 59 r add HP1455 0.8061 0.8301 -0.0240 880 154 0\n",
        "1774 0.8354 inf nan -0.0041 70 r remove HP1320 0.8085 0.8591 -0.0506 884 155 3\n",
        "1417 0.8353 inf nan -0.0006 55 r add HP1101 0.6757 0.9030 -0.2274 885 156 0\n",
        "1173 0.8350 inf nan -0.0019 60 r remove HP0916 0.8546 0.8758 -0.0212 886 157 0\n",
        "980 0.8349 inf nan -0.0009 59 r add HP0744 0.7961 0.8301 -0.0340 887 158 0\n",
        "1078 0.8347 inf nan -0.0010 53 r add HP0839 0.7779 0.9079 -0.1301 890 159 2\n",
        "2018 0.8347 inf nan -0.0002 27 r add HP1539 0.8166 0.8520 -0.0355 891 160 0\n",
        "879 0.8345 inf nan -0.0014 28 r remove HP0679 0.6916 0.8846 -0.1931 894 161 2"
       ]
      },
      {
       "output_type": "stream",
       "stream": "stdout",
       "text": [
        "\n",
        "1063 0.8344 inf nan -0.0006 57 r add HP0822 0.5752 0.7311 -0.1560 895 162 0\n",
        "316 0.8342 inf nan -0.0010 22 r add HP0224 0.7948 0.9146 -0.1198 896 163 0\n",
        "2164 0.8342 inf nan 0.0000 64 c add G27pH5-T1 nan 0.8526 nan 897 164 0\n",
        "1577 0.8341 inf nan -0.0007 22 r add HP1186 0.7868 0.9146 -0.1278 898 165 0\n",
        "997 0.8340 inf nan -0.0009 53 r add HP0758 0.7679 0.9079 -0.1400 899 166 0\n",
        "617 0.8336 inf nan -0.0023 68 r remove HP0485 0.7682 0.8532 -0.0850 902 167 2\n",
        "1909 0.8333 inf nan -0.0016 19 r add HP1452 0.7806 0.9087 -0.1281 903 168 0\n",
        "1390 0.8329 inf nan -0.0028 70 r add HP1068 0.7763 0.8591 -0.0828 904 169 0\n",
        "1465 0.8328 inf nan -0.0006 12 r add HP1124 0.7284 0.8369 -0.1085 905 170 0\n",
        "2211 0.8328 inf nan 0.0000 64 c add Log-Chelate-T-5 nan 0.8526 nan 906 171 0\n",
        "507 0.8327 inf nan -0.0007 74 r add HP0386 0.9513 0.9628 -0.0115 907 172 0\n",
        "315 0.8327 inf nan -0.0001 28 r add HP0223 0.6899 0.8846 -0.1947 908 173 0\n",
        "1795 0.8326 inf nan -0.0007 60 r add HP1338 0.8427 0.8758 -0.0332 910 174 1\n",
        "1064 0.8322 inf nan -0.0020 19 r add HP0822 0.7582 0.9087 -0.1505 911 175 0\n",
        "1552 0.8322 inf nan -0.0002 38 r add HP1175 0.7794 0.8818 -0.1024 913 176 1"
       ]
      },
      {
       "output_type": "stream",
       "stream": "stdout",
       "text": [
        "\n",
        "884 0.8322 inf nan -0.0001 22 r add HP0681 0.7851 0.9146 -0.1295 914 177 0\n",
        "72 0.8321 inf nan -0.0006 11 r remove HP0052 0.8670 0.8857 -0.0188 916 178 1\n",
        "1060 0.8321 inf nan -0.0001 54 r remove HP0821 0.8894 0.9348 -0.0454 917 179 0\n",
        "2036 0.8318 inf nan -0.0015 17 r add HP1555 0.8310 0.8989 -0.0679 918 180 0\n",
        "110 0.8315 inf nan -0.0017 17 r add HP0077 0.8112 0.8989 -0.0878 919 181 0\n",
        "531 0.8314 inf nan -0.0010 21 r add HP0403 0.9371 0.9645 -0.0274 920 182 0\n",
        "828 0.8314 inf nan -0.0001 22 r add HP0649 0.7840 0.9146 -0.1306 921 183 0\n",
        "2255 0.8314 inf nan 0.0000 64 c add Stat-Chelate-T-3 nan 0.8526 nan 922 184 0\n",
        "2056 0.8313 inf nan -0.0001 27 r add HP1564 0.8151 0.8520 -0.0369 923 185 0\n",
        "1726 0.8312 inf nan -0.0008 12 r add HP1299 0.7195 0.8369 -0.1174 924 186 0\n",
        "476 0.8310 inf nan -0.0012 60 r remove HP0358 0.8175 0.8758 -0.0583 928 187 3\n",
        "357 0.8310 inf nan -0.0003 57 r add HP0258 0.5716 0.7311 -0.1595 929 188 0\n",
        "135 0.8309 inf nan -0.0004 0 r add HP0099 0.6710 0.8258 -0.1548 930 189 0\n",
        "1796 0.8309 inf nan -0.0004 45 r add HP1339 0.7972 0.9191 -0.1219 931 190 0"
       ]
      },
      {
       "output_type": "stream",
       "stream": "stdout",
       "text": [
        "\n",
        "304 0.8308 inf nan -0.0005 71 r add HP0212 0.8438 0.8739 -0.0301 932 191 0\n",
        "382 0.8307 inf nan -0.0007 12 r add HP0279 0.7104 0.8369 -0.1265 936 192 3\n",
        "941 0.8304 inf nan -0.0014 32 r remove HP0715 0.6771 0.6976 -0.0205 939 193 2\n",
        "855 0.8302 inf nan -0.0016 19 r add HP0663 0.7372 0.9087 -0.1715 940 194 0\n",
        "793 0.8301 inf nan -0.0004 70 r add HP0619 0.7542 0.8591 -0.1049 942 195 1\n",
        "227 0.8300 inf nan -0.0006 12 r add HP0152 0.7035 0.8369 -0.1334 943 196 0\n",
        "346 0.8299 inf nan -0.0009 17 r add HP0246 0.8014 0.8989 -0.0975 944 197 0\n",
        "1047 0.8298 inf nan -0.0004 54 r remove HP0807 0.8848 0.9348 -0.0501 945 198 0\n",
        "2265 0.8298 inf nan 0.0000 29 c add Stat-Chelate-T-5 nan 0.7717 nan 946 199 0\n",
        "2278 0.8298 inf nan 0.0000 64 c add Stat-iron-survival-2hrs nan 0.8526 nan 947 200 0\n",
        "173 0.8297 inf nan -0.0007 12 r add HP0124 0.6953 0.8369 -0.1416 949 201 1\n",
        "979 0.8295 inf nan -0.0016 72 r remove HP0744 0.6639 0.8588 -0.1949 950 202 0"
       ]
      },
      {
       "output_type": "stream",
       "stream": "stderr",
       "text": [
        "WARNING:root:COULD NOT COMPUTE RESIDUE\n"
       ]
      },
      {
       "output_type": "stream",
       "stream": "stdout",
       "text": [
        "\n",
        "2302 0.8295 inf nan 0.0000 64 c add TC-Motility_broth-T-2 nan 0.8526 nan 951 203 0\n",
        "1440 0.8293 inf nan -0.0009 55 r add HP1111 0.6819 0.9030 -0.2211 952 204 0\n",
        "1491 0.8291 inf nan -0.0011 17 r add HP1136 0.7887 0.8989 -0.1103 953 205 0\n",
        "2357 0.8291 inf nan -0.0001 19 c add TC1-36HR 0.7356 0.9087 -0.1731 954 206 0\n",
        "2069 0.8289 inf nan -0.0010 53 r add HP1576 0.7528 0.9079 -0.1552 955 207 0\n",
        "1507 0.8289 inf nan -0.0004 4 r add HP1149 0.9106 0.9826 -0.0720 956 208 0\n",
        "1591 0.8289 inf nan -0.0001 21 r add HP1195 0.9348 0.9645 -0.0297 958 209 1\n",
        "2427 0.8289 inf nan 0.0000 29 c add TC2-6HR nan 0.7717 nan 959 210 0\n",
        "690 0.8288 inf nan -0.0001 74 r add HP0536 0.9617 0.9628 -0.0010 960 211 0\n",
        "1411 0.8287 inf nan -0.0010 38 r add HP1099 0.7682 0.8818 -0.1136 961 212 0\n",
        "2156 0.8282 inf nan -0.0031 67 c add G27pH-5-T2-4 1.1359 0.7691 0.3668 962 213 0\n",
        "1635 0.8279 inf nan -0.0020 70 r add HP1228 0.7311 0.8591 -0.1280 963 214 0\n",
        "1225 0.8278 inf nan -0.0003 57 r add HP0974 0.5687 0.7311 -0.1625 964 215 0\n",
        "1386 0.8277 inf nan -0.0005 53 r add HP1067 0.7470 0.9079 -0.1609 965 216 0\n",
        "708 0.8277 inf nan -0.0001 57 r add HP0549 0.5677 0.7311 -0.1634 966 217 0\n",
        "1830 0.8276 inf nan -0.0008 12 r add HP1377 0.6860 0.8369 -0.1510 967 218 0\n",
        "1458 0.8274 inf nan -0.0014 61 r remove HP1122 0.8008 0.8209 -0.0202 975 219 7"
       ]
      },
      {
       "output_type": "stream",
       "stream": "stdout",
       "text": [
        "\n",
        "378 0.8271 inf nan -0.0019 11 r remove HP0277 0.8455 0.8857 -0.0402 976 220 0\n",
        "574 0.8270 inf nan -0.0002 74 r add HP0452 0.9597 0.9628 -0.0030 977 221 0\n",
        "1487 0.8269 inf nan -0.0007 53 r add HP1135 0.7393 0.9079 -0.1686 978 222 0\n",
        "698 0.8268 inf nan -0.0010 38 r add HP0542 0.7570 0.8818 -0.1248 979 223 0\n",
        "1786 0.8267 inf nan -0.0003 74 r add HP1326 0.9561 0.9628 -0.0067 980 224 0\n",
        "608 0.8267 inf nan -0.0001 0 r add HP0476 0.6701 0.8258 -0.1557 981 225 0\n",
        "2040 0.8265 inf nan -0.0014 19 r add HP1558 0.7191 0.9087 -0.1896 982 226 0\n",
        "185 0.8264 inf nan -0.0007 50 r add HP0130 0.8853 0.8929 -0.0076 983 227 0\n",
        "299 0.8263 inf nan -0.0002 22 r add HP0210 0.7787 0.9146 -0.1359 984 228 0\n",
        "1318 0.8262 inf nan -0.0009 53 r add HP1030 0.7287 0.9079 -0.1793 985 229 0\n",
        "588 0.8260 inf nan -0.0014 27 r remove HP0466 0.7947 0.8520 -0.0573 986 230 0\n",
        "351 0.8258 inf nan -0.0013 70 r add HP0249 0.7168 0.8591 -0.1423 987 231 0\n",
        "699 0.8257 inf nan -0.0004 27 r add HP0542 0.7891 0.8520 -0.0630 989 232 1\n",
        "272 0.8257 inf nan -0.0002 60 r add HP0189 0.8146 0.8758 -0.0612 990 233 0\n",
        "1845 0.8255 inf nan -0.0012 70 r add HP1393 0.7032 0.8591 -0.1559 991 234 0\n",
        "1449 0.8254 inf nan -0.0002 22 r add HP1118 0.7734 0.9146 -0.1412 1000 235 8"
       ]
      },
      {
       "output_type": "stream",
       "stream": "stderr",
       "text": [
        "WARNING:root:COULD NOT COMPUTE RESIDUE\n"
       ]
      },
      {
       "output_type": "stream",
       "stream": "stdout",
       "text": [
        "\n",
        "2012 0.8252 inf nan -0.0015 70 r add HP1529 0.6861 0.8591 -0.1730 1001 236 0\n",
        "1221 0.8248 inf nan -0.0022 61 r remove HP0970 0.7717 0.8209 -0.0492 1003 237 1\n",
        "977 0.8246 inf nan -0.0014 8 r add HP0740 0.8839 0.9042 -0.0204 1006 238 2\n",
        "1452 0.8246 inf nan -0.0003 15 r add HP1119 0.6731 0.7289 -0.0558 1012 239 5\n",
        "1806 0.8245 inf nan -0.0002 74 r add HP1342 0.9492 0.9628 -0.0136 1013 240 0\n",
        "1897 0.8245 inf nan -0.0001 12 r add HP1443 0.6853 0.8369 -0.1516 1014 241 0\n",
        "163 0.8244 inf nan -0.0006 68 r remove HP0112 0.7613 0.8532 -0.0919 1015 242 0\n",
        "425 0.8244 inf nan -0.0001 19 r add HP0308 0.7251 0.9087 -0.1836 1016 243 0\n",
        "1345 0.8242 inf nan -0.0010 19 r add HP1044 0.7131 0.9087 -0.1956 1017 244 0\n",
        "91 0.8242 inf nan -0.0003 12 r add HP0067 0.6819 0.8369 -0.1550 1018 245 0\n",
        "1517 0.8224 inf nan -0.0110 72 r remove HP1155 0.5594 0.8588 -0.2993 1022 246 3"
       ]
      },
      {
       "output_type": "stream",
       "stream": "stderr",
       "text": [
        "WARNING:root:COULD NOT COMPUTE RESIDUE\n"
       ]
      }
     ]
    },
    {
     "cell_type": "code",
     "collapsed": false,
     "input": [],
     "language": "python",
     "metadata": {},
     "outputs": []
    }
   ],
   "metadata": {}
  }
 ]
}